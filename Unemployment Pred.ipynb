{
 "cells": [
  {
   "cell_type": "code",
   "execution_count": 1,
   "id": "fdecf59d-1114-47b1-95f1-100b2d43aff2",
   "metadata": {},
   "outputs": [],
   "source": [
    "import pandas as pd"
   ]
  },
  {
   "cell_type": "code",
   "execution_count": 29,
   "id": "1031239d-854f-49ac-908d-dc7920fe4efd",
   "metadata": {},
   "outputs": [],
   "source": [
    "data = pd.read_csv(\"Unemployment-1.csv\")"
   ]
  },
  {
   "cell_type": "code",
   "execution_count": 30,
   "id": "1f2b6b3f-4d12-48cf-96a9-fa24e12aef66",
   "metadata": {},
   "outputs": [
    {
     "name": "stdout",
     "output_type": "stream",
     "text": [
      "<class 'pandas.core.frame.DataFrame'>\n",
      "Index(['LOCATION', 'INDICATOR', 'SUBJECT', 'MEASURE', 'FREQUENCY', 'TIME',\n",
      "       'Value'],\n",
      "      dtype='object')\n"
     ]
    }
   ],
   "source": [
    "data = pd.DataFrame(data)\n",
    "print(type(data))\n",
    "print(data.columns)"
   ]
  },
  {
   "cell_type": "code",
   "execution_count": 31,
   "id": "9e52d58e-17f3-4aa5-9a64-497c31a9e953",
   "metadata": {},
   "outputs": [
    {
     "data": {
      "text/html": [
       "<div>\n",
       "<style scoped>\n",
       "    .dataframe tbody tr th:only-of-type {\n",
       "        vertical-align: middle;\n",
       "    }\n",
       "\n",
       "    .dataframe tbody tr th {\n",
       "        vertical-align: top;\n",
       "    }\n",
       "\n",
       "    .dataframe thead th {\n",
       "        text-align: right;\n",
       "    }\n",
       "</style>\n",
       "<table border=\"1\" class=\"dataframe\">\n",
       "  <thead>\n",
       "    <tr style=\"text-align: right;\">\n",
       "      <th></th>\n",
       "      <th>LOCATION</th>\n",
       "      <th>INDICATOR</th>\n",
       "      <th>SUBJECT</th>\n",
       "      <th>MEASURE</th>\n",
       "      <th>FREQUENCY</th>\n",
       "      <th>TIME</th>\n",
       "      <th>Value</th>\n",
       "    </tr>\n",
       "  </thead>\n",
       "  <tbody>\n",
       "    <tr>\n",
       "      <th>0</th>\n",
       "      <td>CAN</td>\n",
       "      <td>HUR</td>\n",
       "      <td>TOT</td>\n",
       "      <td>PC_LF</td>\n",
       "      <td>A</td>\n",
       "      <td>1955</td>\n",
       "      <td>4.408333</td>\n",
       "    </tr>\n",
       "    <tr>\n",
       "      <th>1</th>\n",
       "      <td>CAN</td>\n",
       "      <td>HUR</td>\n",
       "      <td>TOT</td>\n",
       "      <td>PC_LF</td>\n",
       "      <td>A</td>\n",
       "      <td>1956</td>\n",
       "      <td>3.433333</td>\n",
       "    </tr>\n",
       "    <tr>\n",
       "      <th>2</th>\n",
       "      <td>CAN</td>\n",
       "      <td>HUR</td>\n",
       "      <td>TOT</td>\n",
       "      <td>PC_LF</td>\n",
       "      <td>A</td>\n",
       "      <td>1957</td>\n",
       "      <td>4.650000</td>\n",
       "    </tr>\n",
       "    <tr>\n",
       "      <th>3</th>\n",
       "      <td>CAN</td>\n",
       "      <td>HUR</td>\n",
       "      <td>TOT</td>\n",
       "      <td>PC_LF</td>\n",
       "      <td>A</td>\n",
       "      <td>1958</td>\n",
       "      <td>7.066667</td>\n",
       "    </tr>\n",
       "    <tr>\n",
       "      <th>4</th>\n",
       "      <td>CAN</td>\n",
       "      <td>HUR</td>\n",
       "      <td>TOT</td>\n",
       "      <td>PC_LF</td>\n",
       "      <td>A</td>\n",
       "      <td>1959</td>\n",
       "      <td>5.991667</td>\n",
       "    </tr>\n",
       "  </tbody>\n",
       "</table>\n",
       "</div>"
      ],
      "text/plain": [
       "  LOCATION INDICATOR SUBJECT MEASURE FREQUENCY  TIME     Value\n",
       "0      CAN       HUR     TOT   PC_LF         A  1955  4.408333\n",
       "1      CAN       HUR     TOT   PC_LF         A  1956  3.433333\n",
       "2      CAN       HUR     TOT   PC_LF         A  1957  4.650000\n",
       "3      CAN       HUR     TOT   PC_LF         A  1958  7.066667\n",
       "4      CAN       HUR     TOT   PC_LF         A  1959  5.991667"
      ]
     },
     "execution_count": 31,
     "metadata": {},
     "output_type": "execute_result"
    }
   ],
   "source": [
    "data.head()"
   ]
  },
  {
   "cell_type": "code",
   "execution_count": 32,
   "id": "53ca569c-10e6-40c2-a08f-ffb1bda48915",
   "metadata": {},
   "outputs": [],
   "source": [
    "countries = [\"CAN\",\"USA\",\"ITA\",\"GBR\",\"DEU\",\"JPN\",\"FRA\"]\n",
    "\n",
    "data = data[data[\"LOCATION\"].isin(countries)]"
   ]
  },
  {
   "cell_type": "code",
   "execution_count": 37,
   "id": "7567499c-099f-4644-89b7-cb01247f4b9e",
   "metadata": {},
   "outputs": [
    {
     "data": {
      "text/html": [
       "<div>\n",
       "<style scoped>\n",
       "    .dataframe tbody tr th:only-of-type {\n",
       "        vertical-align: middle;\n",
       "    }\n",
       "\n",
       "    .dataframe tbody tr th {\n",
       "        vertical-align: top;\n",
       "    }\n",
       "\n",
       "    .dataframe thead th {\n",
       "        text-align: right;\n",
       "    }\n",
       "</style>\n",
       "<table border=\"1\" class=\"dataframe\">\n",
       "  <thead>\n",
       "    <tr style=\"text-align: right;\">\n",
       "      <th></th>\n",
       "      <th>LOCATION</th>\n",
       "      <th>INDICATOR</th>\n",
       "      <th>SUBJECT</th>\n",
       "      <th>MEASURE</th>\n",
       "      <th>FREQUENCY</th>\n",
       "      <th>TIME</th>\n",
       "      <th>Value</th>\n",
       "    </tr>\n",
       "  </thead>\n",
       "  <tbody>\n",
       "    <tr>\n",
       "      <th>18236</th>\n",
       "      <td>GBR</td>\n",
       "      <td>HUR</td>\n",
       "      <td>WOMEN</td>\n",
       "      <td>PC_LF</td>\n",
       "      <td>M</td>\n",
       "      <td>2022-09</td>\n",
       "      <td>3.5</td>\n",
       "    </tr>\n",
       "    <tr>\n",
       "      <th>18237</th>\n",
       "      <td>GBR</td>\n",
       "      <td>HUR</td>\n",
       "      <td>WOMEN</td>\n",
       "      <td>PC_LF</td>\n",
       "      <td>M</td>\n",
       "      <td>2022-10</td>\n",
       "      <td>3.5</td>\n",
       "    </tr>\n",
       "    <tr>\n",
       "      <th>18238</th>\n",
       "      <td>GBR</td>\n",
       "      <td>HUR</td>\n",
       "      <td>WOMEN</td>\n",
       "      <td>PC_LF</td>\n",
       "      <td>M</td>\n",
       "      <td>2022-11</td>\n",
       "      <td>3.6</td>\n",
       "    </tr>\n",
       "    <tr>\n",
       "      <th>18239</th>\n",
       "      <td>GBR</td>\n",
       "      <td>HUR</td>\n",
       "      <td>WOMEN</td>\n",
       "      <td>PC_LF</td>\n",
       "      <td>M</td>\n",
       "      <td>2022-12</td>\n",
       "      <td>3.6</td>\n",
       "    </tr>\n",
       "    <tr>\n",
       "      <th>18240</th>\n",
       "      <td>GBR</td>\n",
       "      <td>HUR</td>\n",
       "      <td>WOMEN</td>\n",
       "      <td>PC_LF</td>\n",
       "      <td>M</td>\n",
       "      <td>2023-01</td>\n",
       "      <td>3.6</td>\n",
       "    </tr>\n",
       "  </tbody>\n",
       "</table>\n",
       "</div>"
      ],
      "text/plain": [
       "      LOCATION INDICATOR SUBJECT MEASURE FREQUENCY     TIME  Value\n",
       "18236      GBR       HUR   WOMEN   PC_LF         M  2022-09    3.5\n",
       "18237      GBR       HUR   WOMEN   PC_LF         M  2022-10    3.5\n",
       "18238      GBR       HUR   WOMEN   PC_LF         M  2022-11    3.6\n",
       "18239      GBR       HUR   WOMEN   PC_LF         M  2022-12    3.6\n",
       "18240      GBR       HUR   WOMEN   PC_LF         M  2023-01    3.6"
      ]
     },
     "execution_count": 37,
     "metadata": {},
     "output_type": "execute_result"
    }
   ],
   "source": [
    "data.tail()"
   ]
  },
  {
   "cell_type": "code",
   "execution_count": null,
   "id": "2d62b95b-b089-452a-afb2-9baf6fdb0b8e",
   "metadata": {},
   "outputs": [],
   "source": []
  }
 ],
 "metadata": {
  "kernelspec": {
   "display_name": "Python 3 (ipykernel)",
   "language": "python",
   "name": "python3"
  },
  "language_info": {
   "codemirror_mode": {
    "name": "ipython",
    "version": 3
   },
   "file_extension": ".py",
   "mimetype": "text/x-python",
   "name": "python",
   "nbconvert_exporter": "python",
   "pygments_lexer": "ipython3",
   "version": "3.8.10"
  }
 },
 "nbformat": 4,
 "nbformat_minor": 5
}
